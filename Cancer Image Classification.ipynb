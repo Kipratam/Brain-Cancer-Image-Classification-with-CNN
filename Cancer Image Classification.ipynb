{
 "cells": [
  {
   "cell_type": "markdown",
   "id": "63bf8731",
   "metadata": {},
   "source": [
    "<h1>Cancer Classifier</h1> \n"
   ]
  },
  {
   "cell_type": "markdown",
   "id": "bc1655c6",
   "metadata": {},
   "source": [
    "<h2>Preparation</h2>\n"
   ]
  },
  {
   "cell_type": "code",
   "execution_count": 17,
   "id": "0145a575",
   "metadata": {},
   "outputs": [],
   "source": [
    "# Import the libraries we need to use in this lab\n",
    "\n",
    "import torch\n",
    "import torch.nn as nn\n",
    "import torchvision.transforms as transforms\n",
    "import matplotlib.pylab as plt\n",
    "import numpy as np\n",
    "import os\n",
    "import random\n",
    "import time\n",
    "from PIL import Image\n",
    "from torch.utils.data import TensorDataset\n",
    "from torch.utils.data import Dataset\n",
    "from torch.utils.data import Subset, DataLoader"
   ]
  },
  {
   "cell_type": "markdown",
   "id": "3550d85e",
   "metadata": {},
   "source": [
    "<h2>Define dataset class</h2>\n"
   ]
  },
  {
   "cell_type": "code",
   "execution_count": 10,
   "id": "b381c08d",
   "metadata": {},
   "outputs": [],
   "source": [
    "# Define your dataset class\n",
    "class CancerDataset(Dataset):\n",
    "    # Constructor\n",
    "    def __init__(self, transform=None, train=True):\n",
    "        # Directory of the data\n",
    "        directory = \"C:/Users/ASUS/Documents/Coursera/Project for Portfolio/Cancer Classification/Data\"\n",
    "        normal = \"Normal\"\n",
    "        glioma = \"Glioma Tumor\"\n",
    "        meningioma = \"Meningioma Tumor\"\n",
    "        pituitary =  \"Pituitary Tumor\"\n",
    "        \n",
    "        # Path of the negative and positive data\n",
    "        normal_path = os.path.join(directory, normal)\n",
    "        glioma_path = os.path.join(directory, glioma)\n",
    "        meningioma_path = os.path.join(directory, meningioma)\n",
    "        pituitary_path = os.path.join(directory, pituitary)\n",
    "        \n",
    "        # Get the data\n",
    "        normal_files = [os.path.join(normal_path, file) for file in os.listdir(normal_path)]\n",
    "        normal_files.sort()\n",
    "        \n",
    "        glioma_files = [os.path.join(glioma_path, file) for file in os.listdir(glioma_path)]\n",
    "        glioma_files.sort()\n",
    "        \n",
    "        meningioma_files = [os.path.join(meningioma_path, file) for file in os.listdir(meningioma_path)]\n",
    "        meningioma_files.sort()\n",
    "        \n",
    "        pituitary_files = [os.path.join(pituitary_path, file) for file in os.listdir(pituitary_path)]\n",
    "        pituitary_files.sort()\n",
    "        \n",
    "        # Number of samples\n",
    "        number_of_samples = len(normal_files) + len(glioma_files) + len(meningioma_files) + len(pituitary_files)\n",
    "        \n",
    "        self.all_files = [None] * number_of_samples\n",
    "        self.all_files[0:len(normal_files)] = normal_files\n",
    "        self.all_files[len(normal_files):(len(normal_files)+len(glioma_files))] = glioma_files\n",
    "        self.all_files[(len(normal_files) + len(glioma_files)):(len(normal_files) + len(glioma_files) + len(meningioma_files))] = meningioma_files\n",
    "        self.all_files[(len(normal_files) + len(glioma_files) + len(meningioma_files)):] = pituitary_files\n",
    "        \n",
    "        # Assign class labels (0: Normal, 1: Glioma, 2: Meningioma, 3: Pituitary)\n",
    "        self.Y = torch.zeros([number_of_samples], dtype=torch.long)\n",
    "        self.Y[0:len(normal_files)] = 0\n",
    "        self.Y[len(normal_files):(len(normal_files)+len(glioma_files))] = 1\n",
    "        self.Y[(len(normal_files) + len(glioma_files)):(len(normal_files) + len(meningioma_files))] = 2\n",
    "        self.Y[(len(normal_files) + len(glioma_files) + len(meningioma_files)):] = 3\n",
    "        \n",
    "        # Shuffle the dataset\n",
    "        combined = list(zip(self.all_files, self.Y))  # Pair files with labels\n",
    "        random.shuffle(combined)  # Shuffle the pairs\n",
    "        self.all_files, self.Y = zip(*combined)  # Unzip the shuffled pairs\n",
    "        self.all_files = list(self.all_files)  # Convert back to list\n",
    "        self.Y = torch.tensor(self.Y, dtype=torch.long)  # Convert labels back to tensor\n",
    "\n",
    "        self.transform = transform\n",
    "        \n",
    "        # Define the train and test dataset\n",
    "        if train==True:\n",
    "            self.all_files=self.all_files[0:int(number_of_samples*0.8)]\n",
    "            self.Y=self.Y[0:int(number_of_samples*0.8)]\n",
    "            self.len=len(self.all_files)\n",
    "\n",
    "        else:\n",
    "            self.all_files=self.all_files[int(number_of_samples*0.8):]\n",
    "            self.Y=self.Y[int(number_of_samples*0.8):]\n",
    "            self.len=len(self.all_files)\n",
    "\n",
    "    # Get the length of the dataset\n",
    "    def __len__(self):\n",
    "        return self.len\n",
    "\n",
    "    # Getter to retrieve an image and label pair\n",
    "    def __getitem__(self, idx):\n",
    "        image = Image.open(self.all_files[idx]).convert('RGB')  # Ensure all images are RGB\n",
    "        y = self.Y[idx]\n",
    "\n",
    "        # If there is a transform, apply it\n",
    "        if self.transform:\n",
    "            image = self.transform(image)\n",
    "\n",
    "        return image, y"
   ]
  },
  {
   "cell_type": "markdown",
   "id": "d20864df",
   "metadata": {},
   "source": [
    "<h2>Class CNN model</h2>\n"
   ]
  },
  {
   "cell_type": "code",
   "execution_count": 24,
   "id": "ae561660",
   "metadata": {},
   "outputs": [],
   "source": [
    "class CNN(nn.Module):\n",
    "\n",
    "    # Contructor\n",
    "    def __init__(self, out_1=32, out_2=64, out_3=64):\n",
    "        super(CNN, self).__init__()\n",
    "        self.cnn1 = nn.Conv2d(in_channels=3, out_channels=out_1, kernel_size=3, padding=1)\n",
    "        self.maxpool1=nn.MaxPool2d(kernel_size=2)\n",
    "\n",
    "        self.cnn2 = nn.Conv2d(in_channels=out_1, out_channels=out_2, kernel_size=3, stride=1, padding=1)\n",
    "        self.maxpool2=nn.MaxPool2d(kernel_size=2)\n",
    "        \n",
    "        self.cnn3 = nn.Conv2d(in_channels=out_2, out_channels=out_3, kernel_size=3, stride=1, padding=1)\n",
    "        self.maxpool3=nn.MaxPool2d(kernel_size=2)\n",
    "        \n",
    "        self.fc1_input_size = out_3 * 28 * 28\n",
    "        \n",
    "        self.fc1 = nn.Linear(self.fc1_input_size, 4)\n",
    "    \n",
    "    # Prediction\n",
    "    def forward(self, x):\n",
    "        x = self.cnn1(x)\n",
    "        x = torch.relu(x)\n",
    "        x = self.maxpool1(x)\n",
    "        x = self.cnn2(x)\n",
    "        x = torch.relu(x)\n",
    "        x = self.maxpool2(x)\n",
    "        x = self.cnn3(x)\n",
    "        x = torch.relu(x)\n",
    "        x = self.maxpool3(x)\n",
    "        x = x.view(-1, self.fc1_input_size)\n",
    "        x = self.fc1(x)\n",
    "        return x"
   ]
  },
  {
   "cell_type": "markdown",
   "id": "48c454b1",
   "metadata": {},
   "source": [
    "<h2>Function criterion</h2>\n"
   ]
  },
  {
   "cell_type": "code",
   "execution_count": 13,
   "id": "086109f2",
   "metadata": {},
   "outputs": [],
   "source": [
    "def Criterion():\n",
    "    criterion = nn.CrossEntropyLoss()\n",
    "\n",
    "    return Criterion"
   ]
  },
  {
   "cell_type": "markdown",
   "id": "7ad7d784",
   "metadata": {},
   "source": [
    "<h2>Function optimizer</h2>\n"
   ]
  },
  {
   "cell_type": "code",
   "execution_count": 14,
   "id": "2528f9a5",
   "metadata": {},
   "outputs": [],
   "source": [
    "def Optimizer(model, learning_rate):\n",
    "    lr = learning_rate\n",
    "    optimizer = torch.optim.SGD(model.parameters(), lr = learning_rate, momentum=0.9)\n",
    "    \n",
    "    return optimizer"
   ]
  },
  {
   "cell_type": "markdown",
   "id": "f203567b",
   "metadata": {},
   "source": [
    "<h2>Import dataset</h2>\n"
   ]
  },
  {
   "cell_type": "code",
   "execution_count": 11,
   "id": "de2abe0d",
   "metadata": {},
   "outputs": [],
   "source": [
    "mean = [0.485, 0.456, 0.406]\n",
    "std = [0.229, 0.224, 0.225]\n",
    "\n",
    "# Define transforms with the computed mean and std\n",
    "transform_rotate = transforms.Compose([\n",
    "    transforms.Resize((224, 224)),\n",
    "    transforms.RandomRotation(degrees=5),\n",
    "    transforms.ToTensor(),\n",
    "    transforms.Normalize(mean, std)\n",
    "])\n",
    "\n",
    "transform = transforms.Compose([\n",
    "    transforms.Resize((224, 224)),\n",
    "    transforms.ToTensor(),\n",
    "    transforms.Normalize(mean, std)\n",
    "])\n",
    "<h2>Import dataset</h2>\n",
    "\n",
    "# Create training and validation datasets using the normalization\n",
    "train_dataset = CancerDataset(transform=transform_rotate, train=True)\n",
    "validation_dataset = CancerDataset(transform=transform, train=False)"
   ]
  },
  {
   "cell_type": "markdown",
   "id": "d82bade8",
   "metadata": {},
   "source": [
    "<h2>Define ML model, criterion, optimizer, and datasets</h2>\n"
   ]
  },
  {
   "cell_type": "code",
   "execution_count": 25,
   "id": "befa1213",
   "metadata": {},
   "outputs": [],
   "source": [
    "# Define the model\n",
    "model = CNN()\n",
    "\n",
    "# Define the criterion\n",
    "criterion = nn.CrossEntropyLoss()\n",
    "\n",
    "# Define the optimizer\n",
    "optimizer = Optimizer(model, 0.001)\n",
    "\n",
    "# Define the train and validation dataset loader\n",
    "train_loader = torch.utils.data.DataLoader(dataset=train_dataset, batch_size=32)\n",
    "validation_loader = torch.utils.data.DataLoader(dataset=validation_dataset, batch_size=1)"
   ]
  },
  {
   "cell_type": "code",
   "execution_count": 26,
   "id": "2ea0ff74",
   "metadata": {},
   "outputs": [
    {
     "name": "stdout",
     "output_type": "stream",
     "text": [
      "CNN(\n",
      "  (cnn1): Conv2d(3, 32, kernel_size=(3, 3), stride=(1, 1), padding=(1, 1))\n",
      "  (maxpool1): MaxPool2d(kernel_size=2, stride=2, padding=0, dilation=1, ceil_mode=False)\n",
      "  (cnn2): Conv2d(32, 64, kernel_size=(3, 3), stride=(1, 1), padding=(1, 1))\n",
      "  (maxpool2): MaxPool2d(kernel_size=2, stride=2, padding=0, dilation=1, ceil_mode=False)\n",
      "  (cnn3): Conv2d(64, 64, kernel_size=(3, 3), stride=(1, 1), padding=(1, 1))\n",
      "  (maxpool3): MaxPool2d(kernel_size=2, stride=2, padding=0, dilation=1, ceil_mode=False)\n",
      "  (fc1): Linear(in_features=50176, out_features=4, bias=True)\n",
      ")\n"
     ]
    }
   ],
   "source": [
    "# Machine learning model\n",
    "print(model)"
   ]
  },
  {
   "cell_type": "markdown",
   "id": "1a57b43b",
   "metadata": {},
   "source": [
    "<h2>Run the model</h2>\n"
   ]
  },
  {
   "cell_type": "code",
   "execution_count": 27,
   "id": "90addf6d",
   "metadata": {},
   "outputs": [],
   "source": [
    "n_epochs=5\n",
    "loss_list=[]\n",
    "accuracy_list=[]\n",
    "correct=0\n",
    "N_test=len(validation_dataset)\n",
    "N_train=len(train_dataset)\n",
    "start_time = time.time()\n",
    "Loss=0\n",
    "start_time = time.time()\n",
    "\n",
    "for epoch in range(n_epochs):\n",
    "    for x, y in train_loader:\n",
    "        # Train the model\n",
    "        model.train() \n",
    "        \n",
    "        # Clear gradient\n",
    "        optimizer.zero_grad()\n",
    "        \n",
    "        # Make a prediction \n",
    "        z = model(x)\n",
    "        \n",
    "        # Calculate loss \n",
    "        loss = criterion(z, y)\n",
    "        \n",
    "        # Calculate gradients of parameters\n",
    "        loss.backward()\n",
    "        \n",
    "        # Update parameters\n",
    "        optimizer.step()\n",
    "        \n",
    "        # Add loss to the array\n",
    "        loss_list.append(loss.data)\n",
    "    \n",
    "    correct=0\n",
    "    \n",
    "    for x_test, y_test in validation_loader:\n",
    "        # set model to eval \n",
    "        model.eval()\n",
    "        \n",
    "        #make a prediction \n",
    "        z = model(x_test)\n",
    "        \n",
    "        #find max \n",
    "        _, yhat = torch.max(z.data, 1)\n",
    "        correct += (yhat == y_test).sum().item()\n",
    "\n",
    "    accuracy = correct / N_test\n",
    "    accuracy_list.append(accuracy)"
   ]
  },
  {
   "cell_type": "code",
   "execution_count": 28,
   "id": "f43a5566",
   "metadata": {
    "tags": []
   },
   "outputs": [
    {
     "data": {
      "text/plain": [
       "0.9079584775086506"
      ]
     },
     "execution_count": 28,
     "metadata": {},
     "output_type": "execute_result"
    }
   ],
   "source": [
    "accuracy"
   ]
  },
  {
   "cell_type": "code",
   "execution_count": 29,
   "id": "9e31ce80",
   "metadata": {},
   "outputs": [
    {
     "data": {
      "text/plain": [
       "Text(0.5, 1.0, 'Loss vs Iteration')"
      ]
     },
     "execution_count": 29,
     "metadata": {},
     "output_type": "execute_result"
    },
    {
     "data": {
      "image/png": "[encoded data removed]",
      "text/plain": [
       "<Figure size 432x288 with 1 Axes>"
      ]
     },
     "metadata": {
      "needs_background": "light"
     },
     "output_type": "display_data"
    }
   ],
   "source": [
    "# Plot the loss and accuracy\n",
    "\n",
    "plt.plot( loss_list)\n",
    "plt.xlabel('Iteration')\n",
    "plt.ylabel('Loss')\n",
    "plt.title('Loss vs Iteration')"
   ]
  },
  {
   "cell_type": "code",
   "execution_count": null,
   "id": "6d23c48d",
   "metadata": {},
   "outputs": [],
   "source": []
  }
 ],
 "metadata": {
  "kernelspec": {
   "display_name": "Python 3 (ipykernel)",
   "language": "python",
   "name": "python3"
  },
  "language_info": {
   "codemirror_mode": {
    "name": "ipython",
    "version": 3
   },
   "file_extension": ".py",
   "mimetype": "text/x-python",
   "name": "python",
   "nbconvert_exporter": "python",
   "pygments_lexer": "ipython3",
   "version": "3.9.12"
  }
 },
 "nbformat": 4,
 "nbformat_minor": 5
}
